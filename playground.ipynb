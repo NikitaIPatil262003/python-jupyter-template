{
 "cells": [
  {
   "cell_type": "code",
   "execution_count": 1,
   "metadata": {},
   "outputs": [
    {
     "name": "stdout",
     "output_type": "stream",
     "text": [
      "NIKITA PATIL\n"
     ]
    }
   ],
   "source": [
    "# This is a Python code cell\n",
    "print('NIKITA PATIL')"
   ]
  },
  {
   "cell_type": "markdown",
   "metadata": {},
   "source": [
    "# My Name\n",
    "NIKITA PATIL"
   ]
  },
  {
   "cell_type": "markdown",
   "metadata": {},
   "source": [
    "## Activity Documentation\n",
    "\n",
    "**Steps Performed:**\n",
    "1. Located the File Browser.\n",
    "2. Opened a new Python 3 notebook from File > New > Notebook.\n",
    "3. Closed the notebook without saving.\n",
    "\n",
    "**Evidence:**\n",
    "- File Browser visible on the left-hand side.\n",
    "- New notebook (`Untitled.ipynb`) was opened and discarded."
   ]
  },
  {
   "cell_type": "markdown",
   "metadata": {},
   "source": [
    "# JupyterLab Shortcuts"
   ]
  }
 ],
 "metadata": {
  "kernelspec": {
   "display_name": "Python 3",
   "language": "python",
   "name": "python3"
  },
  "language_info": {
   "codemirror_mode": {
    "name": "ipython",
    "version": 3
   },
   "file_extension": ".py",
   "mimetype": "text/x-python",
   "name": "python",
   "nbconvert_exporter": "python",
   "pygments_lexer": "ipython3",
   "version": "3.10.12"
  }
 },
 "nbformat": 4,
 "nbformat_minor": 2
}
